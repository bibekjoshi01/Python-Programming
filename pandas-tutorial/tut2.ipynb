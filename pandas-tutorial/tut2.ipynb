{
 "cells": [
  {
   "cell_type": "markdown",
   "id": "7c166536",
   "metadata": {},
   "source": [
    "## Indexing, Selecting and Assigning"
   ]
  },
  {
   "cell_type": "code",
   "execution_count": null,
   "id": "3d613d47",
   "metadata": {},
   "outputs": [],
   "source": [
    "import pandas as pd"
   ]
  },
  {
   "cell_type": "code",
   "execution_count": null,
   "id": "6127a7e2",
   "metadata": {},
   "outputs": [],
   "source": [
    "data = pd.read_csv(\"data1.csv\", index_col=0)\n",
    "pd.set_option('display.max_rows', 5)"
   ]
  },
  {
   "cell_type": "code",
   "execution_count": null,
   "id": "cc78a293",
   "metadata": {},
   "outputs": [],
   "source": [
    "data"
   ]
  },
  {
   "cell_type": "code",
   "execution_count": null,
   "id": "b62e3904",
   "metadata": {},
   "outputs": [],
   "source": [
    "data['gender']\n",
    "# or data.gender\n",
    "# It's similar to acccessing python dictionary"
   ]
  },
  {
   "cell_type": "code",
   "execution_count": null,
   "id": "a78c6138",
   "metadata": {},
   "outputs": [],
   "source": [
    "data['gender'][0]"
   ]
  },
  {
   "cell_type": "markdown",
   "id": "bc3eec47",
   "metadata": {},
   "source": [
    "**Indexing in Pandas:**\n",
    "Pandas has its own accessor operators, loc and iloc. For more advanced operations, these are the ones you're supposed to be using."
   ]
  },
  {
   "cell_type": "code",
   "execution_count": null,
   "id": "626f6ab5",
   "metadata": {},
   "outputs": [],
   "source": [
    "data.iloc[0] # Selecting Row"
   ]
  },
  {
   "cell_type": "code",
   "execution_count": null,
   "id": "18cad62c",
   "metadata": {},
   "outputs": [],
   "source": [
    "data.iloc[:, 0] # Selecting Column\n",
    "data.iloc[3:6, 0]"
   ]
  },
  {
   "cell_type": "code",
   "execution_count": null,
   "id": "667d9f31",
   "metadata": {},
   "outputs": [],
   "source": [
    "data.iloc[-5:]"
   ]
  },
  {
   "cell_type": "code",
   "execution_count": null,
   "id": "f9b41de4",
   "metadata": {},
   "outputs": [],
   "source": [
    "data.loc[data.age == 20]"
   ]
  },
  {
   "cell_type": "code",
   "execution_count": null,
   "id": "5052cc6c",
   "metadata": {},
   "outputs": [],
   "source": [
    "data.set_index('age')"
   ]
  },
  {
   "cell_type": "code",
   "execution_count": null,
   "id": "773fc656",
   "metadata": {},
   "outputs": [],
   "source": [
    "data['age'][0] = 20\n",
    "data['age']"
   ]
  }
 ],
 "metadata": {
  "kernelspec": {
   "display_name": ".venv",
   "language": "python",
   "name": "python3"
  },
  "language_info": {
   "codemirror_mode": {
    "name": "ipython",
    "version": 3
   },
   "file_extension": ".py",
   "mimetype": "text/x-python",
   "name": "python",
   "nbconvert_exporter": "python",
   "pygments_lexer": "ipython3",
   "version": "3.10.7"
  }
 },
 "nbformat": 4,
 "nbformat_minor": 5
}

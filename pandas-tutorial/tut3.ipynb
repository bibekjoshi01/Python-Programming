{
 "cells": [
  {
   "cell_type": "markdown",
   "id": "e88d07de",
   "metadata": {},
   "source": [
    "## Summary Functions and Maps\n",
    "Restructure the data in some useful way."
   ]
  },
  {
   "cell_type": "code",
   "execution_count": null,
   "id": "d66cc225",
   "metadata": {},
   "outputs": [],
   "source": [
    "pip install pandas"
   ]
  },
  {
   "cell_type": "code",
   "execution_count": null,
   "id": "ef76fb73",
   "metadata": {},
   "outputs": [],
   "source": [
    "import pandas as pd\n",
    "data = pd.read_csv(\"data1.csv\")\n",
    "data.head()"
   ]
  },
  {
   "cell_type": "code",
   "execution_count": null,
   "id": "18201fa6",
   "metadata": {},
   "outputs": [],
   "source": [
    "data.age.describe() # This method generates a high-level summary of the attributes of the given column."
   ]
  },
  {
   "cell_type": "code",
   "execution_count": null,
   "id": "8a3d1185",
   "metadata": {},
   "outputs": [],
   "source": [
    "data.diet_quality.describe() # For String Data"
   ]
  },
  {
   "cell_type": "code",
   "execution_count": null,
   "id": "6ea17fe1",
   "metadata": {},
   "outputs": [],
   "source": [
    "data.attendance_percentage.mean() # This method calculates the mean of the given column."
   ]
  },
  {
   "cell_type": "code",
   "execution_count": null,
   "id": "5acf275b",
   "metadata": {},
   "outputs": [],
   "source": [
    "data.diet_quality.unique() # This method returns the unique values of the given column."
   ]
  },
  {
   "cell_type": "code",
   "execution_count": null,
   "id": "a1078ebe",
   "metadata": {},
   "outputs": [],
   "source": [
    "data.gender.value_counts() # This method counts the number of occurrences of each unique value in the given column."
   ]
  },
  {
   "cell_type": "markdown",
   "id": "3e9e8054",
   "metadata": {},
   "source": [
    "**Maps**\n",
    "For a function that takes one set of values and \"maps\" them to another set of values. In data science, we often have a need for creating new representatinos from existing data, or for transforming data from the format it is in now to the format that we want it to be in later."
   ]
  },
  {
   "cell_type": "code",
   "execution_count": null,
   "id": "5b4fca97",
   "metadata": {},
   "outputs": [],
   "source": [
    "data_age_mean = data.age.mean()\n",
    "data.age.map(lambda x: x - data_age_mean)"
   ]
  },
  {
   "cell_type": "code",
   "execution_count": null,
   "id": "ba907ab2",
   "metadata": {},
   "outputs": [],
   "source": [
    "def remean_age(row):\n",
    "    row.age = row.age - data_age_mean\n",
    "    return row\n",
    "\n",
    "# This method applies the remean_age function to each row of the DataFrame.\n",
    "data.apply(remean_age, axis=\"columns\") "
   ]
  },
  {
   "cell_type": "markdown",
   "id": "11c3d528",
   "metadata": {},
   "source": [
    "Note that map() and apply() return new, transformed Series and DataFrames, respectively. They don't modify the original data they're called on. "
   ]
  }
 ],
 "metadata": {
  "kernelspec": {
   "display_name": "venv",
   "language": "python",
   "name": "python3"
  },
  "language_info": {
   "codemirror_mode": {
    "name": "ipython",
    "version": 3
   },
   "file_extension": ".py",
   "mimetype": "text/x-python",
   "name": "python",
   "nbconvert_exporter": "python",
   "pygments_lexer": "ipython3",
   "version": "3.10.10"
  }
 },
 "nbformat": 4,
 "nbformat_minor": 5
}

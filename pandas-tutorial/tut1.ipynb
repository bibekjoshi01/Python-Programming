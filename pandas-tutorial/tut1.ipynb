{
 "cells": [
  {
   "cell_type": "markdown",
   "id": "953602b7",
   "metadata": {},
   "source": [
    "# Creating, Reading and Writing"
   ]
  },
  {
   "cell_type": "code",
   "execution_count": null,
   "id": "f9fc054c",
   "metadata": {},
   "outputs": [],
   "source": [
    "pip install pandas"
   ]
  },
  {
   "cell_type": "code",
   "execution_count": null,
   "id": "36d7f7c7",
   "metadata": {},
   "outputs": [],
   "source": [
    "import pandas as pd"
   ]
  },
  {
   "cell_type": "markdown",
   "id": "b781954a",
   "metadata": {},
   "source": [
    "**DataFrame**\n",
    "A dataframe is a table. It contains an array of individual entries, each of which has a certain value. "
   ]
  },
  {
   "cell_type": "code",
   "execution_count": null,
   "id": "5d5a6478",
   "metadata": {},
   "outputs": [],
   "source": [
    "df = pd.DataFrame({'Yes': [50, 70], 'No': [12, 34]})\n",
    "df"
   ]
  },
  {
   "cell_type": "markdown",
   "id": "1cceefed",
   "metadata": {},
   "source": [
    "Assigning index to row labels. "
   ]
  },
  {
   "cell_type": "code",
   "execution_count": null,
   "id": "78449269",
   "metadata": {},
   "outputs": [],
   "source": [
    "pd.DataFrame({'Name': [\"Bibek\", \"Deepak\", \"Neeket\"], \n",
    "              'Age': [20, 22, 32]}, \n",
    "              index=['Row1', 'Row2', 'Row3'])"
   ]
  },
  {
   "cell_type": "markdown",
   "id": "fc792d20",
   "metadata": {},
   "source": [
    "**Series** is a sequence of data values. In essence, it is a single column of a DataFrame."
   ]
  },
  {
   "cell_type": "code",
   "execution_count": null,
   "id": "bc08ebb7",
   "metadata": {},
   "outputs": [],
   "source": [
    "pd.Series([1, 2, 4, 1, 5])"
   ]
  },
  {
   "cell_type": "markdown",
   "id": "12aec27b",
   "metadata": {},
   "source": [
    "**Reading data Files**"
   ]
  },
  {
   "cell_type": "code",
   "execution_count": null,
   "id": "ffe54fdc",
   "metadata": {},
   "outputs": [],
   "source": [
    "data = pd.read_csv(\"data1.csv\", index_col=0)\n",
    "print(\"Data Size: \", data.shape)\n",
    "data.head()"
   ]
  }
 ],
 "metadata": {
  "kernelspec": {
   "display_name": "venv",
   "language": "python",
   "name": "python3"
  },
  "language_info": {
   "codemirror_mode": {
    "name": "ipython",
    "version": 3
   },
   "file_extension": ".py",
   "mimetype": "text/x-python",
   "name": "python",
   "nbconvert_exporter": "python",
   "pygments_lexer": "ipython3",
   "version": "3.10.10"
  }
 },
 "nbformat": 4,
 "nbformat_minor": 5
}

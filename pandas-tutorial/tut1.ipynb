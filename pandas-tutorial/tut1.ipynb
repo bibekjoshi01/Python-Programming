{
 "cells": [
  {
   "cell_type": "markdown",
   "id": "953602b7",
   "metadata": {},
   "source": [
    "# Creating, Reading and Writing"
   ]
  },
  {
   "cell_type": "code",
   "execution_count": 8,
   "id": "f9fc054c",
   "metadata": {},
   "outputs": [
    {
     "name": "stdout",
     "output_type": "stream",
     "text": [
      "Requirement already satisfied: pandas in d:\\workspace_bibek\\python-programming\\.venv\\lib\\site-packages (2.2.3)\n",
      "Requirement already satisfied: numpy>=1.22.4 in d:\\workspace_bibek\\python-programming\\.venv\\lib\\site-packages (from pandas) (2.2.5)\n",
      "Requirement already satisfied: python-dateutil>=2.8.2 in d:\\workspace_bibek\\python-programming\\.venv\\lib\\site-packages (from pandas) (2.9.0.post0)\n",
      "Requirement already satisfied: pytz>=2020.1 in d:\\workspace_bibek\\python-programming\\.venv\\lib\\site-packages (from pandas) (2025.2)\n",
      "Requirement already satisfied: tzdata>=2022.7 in d:\\workspace_bibek\\python-programming\\.venv\\lib\\site-packages (from pandas) (2025.2)\n",
      "Requirement already satisfied: six>=1.5 in d:\\workspace_bibek\\python-programming\\.venv\\lib\\site-packages (from python-dateutil>=2.8.2->pandas) (1.17.0)\n",
      "Note: you may need to restart the kernel to use updated packages.\n"
     ]
    }
   ],
   "source": [
    "pip install pandas"
   ]
  },
  {
   "cell_type": "code",
   "execution_count": 9,
   "id": "36d7f7c7",
   "metadata": {},
   "outputs": [],
   "source": [
    "import pandas as pd"
   ]
  },
  {
   "cell_type": "markdown",
   "id": "b781954a",
   "metadata": {},
   "source": [
    "**DataFrame**\n",
    "A dataframe is a table. It contains an array of individual entries, each of which has a certain value. "
   ]
  },
  {
   "cell_type": "code",
   "execution_count": 10,
   "id": "5d5a6478",
   "metadata": {},
   "outputs": [
    {
     "data": {
      "text/html": [
       "<div>\n",
       "<style scoped>\n",
       "    .dataframe tbody tr th:only-of-type {\n",
       "        vertical-align: middle;\n",
       "    }\n",
       "\n",
       "    .dataframe tbody tr th {\n",
       "        vertical-align: top;\n",
       "    }\n",
       "\n",
       "    .dataframe thead th {\n",
       "        text-align: right;\n",
       "    }\n",
       "</style>\n",
       "<table border=\"1\" class=\"dataframe\">\n",
       "  <thead>\n",
       "    <tr style=\"text-align: right;\">\n",
       "      <th></th>\n",
       "      <th>Yes</th>\n",
       "      <th>No</th>\n",
       "    </tr>\n",
       "  </thead>\n",
       "  <tbody>\n",
       "    <tr>\n",
       "      <th>0</th>\n",
       "      <td>50</td>\n",
       "      <td>12</td>\n",
       "    </tr>\n",
       "    <tr>\n",
       "      <th>1</th>\n",
       "      <td>70</td>\n",
       "      <td>34</td>\n",
       "    </tr>\n",
       "  </tbody>\n",
       "</table>\n",
       "</div>"
      ],
      "text/plain": [
       "   Yes  No\n",
       "0   50  12\n",
       "1   70  34"
      ]
     },
     "execution_count": 10,
     "metadata": {},
     "output_type": "execute_result"
    }
   ],
   "source": [
    "df = pd.DataFrame({'Yes': [50, 70], 'No': [12, 34]})\n",
    "df"
   ]
  },
  {
   "cell_type": "markdown",
   "id": "1cceefed",
   "metadata": {},
   "source": [
    "Assigning index to row labels. "
   ]
  },
  {
   "cell_type": "code",
   "execution_count": 14,
   "id": "78449269",
   "metadata": {},
   "outputs": [
    {
     "data": {
      "text/html": [
       "<div>\n",
       "<style scoped>\n",
       "    .dataframe tbody tr th:only-of-type {\n",
       "        vertical-align: middle;\n",
       "    }\n",
       "\n",
       "    .dataframe tbody tr th {\n",
       "        vertical-align: top;\n",
       "    }\n",
       "\n",
       "    .dataframe thead th {\n",
       "        text-align: right;\n",
       "    }\n",
       "</style>\n",
       "<table border=\"1\" class=\"dataframe\">\n",
       "  <thead>\n",
       "    <tr style=\"text-align: right;\">\n",
       "      <th></th>\n",
       "      <th>Name</th>\n",
       "      <th>Age</th>\n",
       "    </tr>\n",
       "  </thead>\n",
       "  <tbody>\n",
       "    <tr>\n",
       "      <th>Row1</th>\n",
       "      <td>Bibek</td>\n",
       "      <td>20</td>\n",
       "    </tr>\n",
       "    <tr>\n",
       "      <th>Row2</th>\n",
       "      <td>Deepak</td>\n",
       "      <td>22</td>\n",
       "    </tr>\n",
       "    <tr>\n",
       "      <th>Row3</th>\n",
       "      <td>Neeket</td>\n",
       "      <td>32</td>\n",
       "    </tr>\n",
       "  </tbody>\n",
       "</table>\n",
       "</div>"
      ],
      "text/plain": [
       "        Name  Age\n",
       "Row1   Bibek   20\n",
       "Row2  Deepak   22\n",
       "Row3  Neeket   32"
      ]
     },
     "execution_count": 14,
     "metadata": {},
     "output_type": "execute_result"
    }
   ],
   "source": [
    "pd.DataFrame({'Name': [\"Bibek\", \"Deepak\", \"Neeket\"], \n",
    "              'Age': [20, 22, 32]}, \n",
    "              index=['Row1', 'Row2', 'Row3'])"
   ]
  },
  {
   "cell_type": "markdown",
   "id": "fc792d20",
   "metadata": {},
   "source": [
    "**Series** is a sequence of data values. In essence, it is a single column of a DataFrame."
   ]
  },
  {
   "cell_type": "code",
   "execution_count": 15,
   "id": "bc08ebb7",
   "metadata": {},
   "outputs": [
    {
     "data": {
      "text/plain": [
       "0    1\n",
       "1    2\n",
       "2    4\n",
       "3    1\n",
       "4    5\n",
       "dtype: int64"
      ]
     },
     "execution_count": 15,
     "metadata": {},
     "output_type": "execute_result"
    }
   ],
   "source": [
    "pd.Series([1, 2, 4, 1, 5])"
   ]
  },
  {
   "cell_type": "markdown",
   "id": "12aec27b",
   "metadata": {},
   "source": [
    "**Reading data Files**"
   ]
  },
  {
   "cell_type": "code",
   "execution_count": 35,
   "id": "ffe54fdc",
   "metadata": {},
   "outputs": [
    {
     "name": "stdout",
     "output_type": "stream",
     "text": [
      "Data Size:  (1000, 15)\n"
     ]
    },
    {
     "data": {
      "text/html": [
       "<div>\n",
       "<style scoped>\n",
       "    .dataframe tbody tr th:only-of-type {\n",
       "        vertical-align: middle;\n",
       "    }\n",
       "\n",
       "    .dataframe tbody tr th {\n",
       "        vertical-align: top;\n",
       "    }\n",
       "\n",
       "    .dataframe thead th {\n",
       "        text-align: right;\n",
       "    }\n",
       "</style>\n",
       "<table border=\"1\" class=\"dataframe\">\n",
       "  <thead>\n",
       "    <tr style=\"text-align: right;\">\n",
       "      <th></th>\n",
       "      <th>age</th>\n",
       "      <th>gender</th>\n",
       "      <th>study_hours_per_day</th>\n",
       "      <th>social_media_hours</th>\n",
       "      <th>netflix_hours</th>\n",
       "      <th>part_time_job</th>\n",
       "      <th>attendance_percentage</th>\n",
       "      <th>sleep_hours</th>\n",
       "      <th>diet_quality</th>\n",
       "      <th>exercise_frequency</th>\n",
       "      <th>parental_education_level</th>\n",
       "      <th>internet_quality</th>\n",
       "      <th>mental_health_rating</th>\n",
       "      <th>extracurricular_participation</th>\n",
       "      <th>exam_score</th>\n",
       "    </tr>\n",
       "    <tr>\n",
       "      <th>student_id</th>\n",
       "      <th></th>\n",
       "      <th></th>\n",
       "      <th></th>\n",
       "      <th></th>\n",
       "      <th></th>\n",
       "      <th></th>\n",
       "      <th></th>\n",
       "      <th></th>\n",
       "      <th></th>\n",
       "      <th></th>\n",
       "      <th></th>\n",
       "      <th></th>\n",
       "      <th></th>\n",
       "      <th></th>\n",
       "      <th></th>\n",
       "    </tr>\n",
       "  </thead>\n",
       "  <tbody>\n",
       "    <tr>\n",
       "      <th>S1000</th>\n",
       "      <td>23</td>\n",
       "      <td>Female</td>\n",
       "      <td>0.0</td>\n",
       "      <td>1.2</td>\n",
       "      <td>1.1</td>\n",
       "      <td>No</td>\n",
       "      <td>85.0</td>\n",
       "      <td>8.0</td>\n",
       "      <td>Fair</td>\n",
       "      <td>6</td>\n",
       "      <td>Master</td>\n",
       "      <td>Average</td>\n",
       "      <td>8</td>\n",
       "      <td>Yes</td>\n",
       "      <td>56.2</td>\n",
       "    </tr>\n",
       "    <tr>\n",
       "      <th>S1001</th>\n",
       "      <td>20</td>\n",
       "      <td>Female</td>\n",
       "      <td>6.9</td>\n",
       "      <td>2.8</td>\n",
       "      <td>2.3</td>\n",
       "      <td>No</td>\n",
       "      <td>97.3</td>\n",
       "      <td>4.6</td>\n",
       "      <td>Good</td>\n",
       "      <td>6</td>\n",
       "      <td>High School</td>\n",
       "      <td>Average</td>\n",
       "      <td>8</td>\n",
       "      <td>No</td>\n",
       "      <td>100.0</td>\n",
       "    </tr>\n",
       "    <tr>\n",
       "      <th>S1002</th>\n",
       "      <td>21</td>\n",
       "      <td>Male</td>\n",
       "      <td>1.4</td>\n",
       "      <td>3.1</td>\n",
       "      <td>1.3</td>\n",
       "      <td>No</td>\n",
       "      <td>94.8</td>\n",
       "      <td>8.0</td>\n",
       "      <td>Poor</td>\n",
       "      <td>1</td>\n",
       "      <td>High School</td>\n",
       "      <td>Poor</td>\n",
       "      <td>1</td>\n",
       "      <td>No</td>\n",
       "      <td>34.3</td>\n",
       "    </tr>\n",
       "    <tr>\n",
       "      <th>S1003</th>\n",
       "      <td>23</td>\n",
       "      <td>Female</td>\n",
       "      <td>1.0</td>\n",
       "      <td>3.9</td>\n",
       "      <td>1.0</td>\n",
       "      <td>No</td>\n",
       "      <td>71.0</td>\n",
       "      <td>9.2</td>\n",
       "      <td>Poor</td>\n",
       "      <td>4</td>\n",
       "      <td>Master</td>\n",
       "      <td>Good</td>\n",
       "      <td>1</td>\n",
       "      <td>Yes</td>\n",
       "      <td>26.8</td>\n",
       "    </tr>\n",
       "    <tr>\n",
       "      <th>S1004</th>\n",
       "      <td>19</td>\n",
       "      <td>Female</td>\n",
       "      <td>5.0</td>\n",
       "      <td>4.4</td>\n",
       "      <td>0.5</td>\n",
       "      <td>No</td>\n",
       "      <td>90.9</td>\n",
       "      <td>4.9</td>\n",
       "      <td>Fair</td>\n",
       "      <td>3</td>\n",
       "      <td>Master</td>\n",
       "      <td>Good</td>\n",
       "      <td>1</td>\n",
       "      <td>No</td>\n",
       "      <td>66.4</td>\n",
       "    </tr>\n",
       "  </tbody>\n",
       "</table>\n",
       "</div>"
      ],
      "text/plain": [
       "            age  gender  study_hours_per_day  social_media_hours  \\\n",
       "student_id                                                         \n",
       "S1000        23  Female                  0.0                 1.2   \n",
       "S1001        20  Female                  6.9                 2.8   \n",
       "S1002        21    Male                  1.4                 3.1   \n",
       "S1003        23  Female                  1.0                 3.9   \n",
       "S1004        19  Female                  5.0                 4.4   \n",
       "\n",
       "            netflix_hours part_time_job  attendance_percentage  sleep_hours  \\\n",
       "student_id                                                                    \n",
       "S1000                 1.1            No                   85.0          8.0   \n",
       "S1001                 2.3            No                   97.3          4.6   \n",
       "S1002                 1.3            No                   94.8          8.0   \n",
       "S1003                 1.0            No                   71.0          9.2   \n",
       "S1004                 0.5            No                   90.9          4.9   \n",
       "\n",
       "           diet_quality  exercise_frequency parental_education_level  \\\n",
       "student_id                                                             \n",
       "S1000              Fair                   6                   Master   \n",
       "S1001              Good                   6              High School   \n",
       "S1002              Poor                   1              High School   \n",
       "S1003              Poor                   4                   Master   \n",
       "S1004              Fair                   3                   Master   \n",
       "\n",
       "           internet_quality  mental_health_rating  \\\n",
       "student_id                                          \n",
       "S1000               Average                     8   \n",
       "S1001               Average                     8   \n",
       "S1002                  Poor                     1   \n",
       "S1003                  Good                     1   \n",
       "S1004                  Good                     1   \n",
       "\n",
       "           extracurricular_participation  exam_score  \n",
       "student_id                                            \n",
       "S1000                                Yes        56.2  \n",
       "S1001                                 No       100.0  \n",
       "S1002                                 No        34.3  \n",
       "S1003                                Yes        26.8  \n",
       "S1004                                 No        66.4  "
      ]
     },
     "execution_count": 35,
     "metadata": {},
     "output_type": "execute_result"
    }
   ],
   "source": [
    "data = pd.read_csv(\"data1.csv\", index_col=0)\n",
    "print(\"Data Size: \", data.shape)\n",
    "data.head()"
   ]
  }
 ],
 "metadata": {
  "kernelspec": {
   "display_name": ".venv",
   "language": "python",
   "name": "python3"
  },
  "language_info": {
   "codemirror_mode": {
    "name": "ipython",
    "version": 3
   },
   "file_extension": ".py",
   "mimetype": "text/x-python",
   "name": "python",
   "nbconvert_exporter": "python",
   "pygments_lexer": "ipython3",
   "version": "3.10.7"
  }
 },
 "nbformat": 4,
 "nbformat_minor": 5
}

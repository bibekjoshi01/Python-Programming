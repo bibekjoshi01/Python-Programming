{
 "cells": [
  {
   "cell_type": "markdown",
   "id": "ed0414e5",
   "metadata": {},
   "source": [
    "## Grouping and Sorting"
   ]
  },
  {
   "cell_type": "code",
   "execution_count": null,
   "id": "813f9dc8",
   "metadata": {},
   "outputs": [],
   "source": [
    "import pandas as pd\n",
    "data = pd.read_csv(\"./data1.csv\")\n",
    "data.head()"
   ]
  },
  {
   "cell_type": "code",
   "execution_count": null,
   "id": "5acc16f9",
   "metadata": {},
   "outputs": [],
   "source": [
    "data.groupby('part_time_job').part_time_job.count()\n",
    "# OR \n",
    "data.value_counts('part_time_job')"
   ]
  },
  {
   "cell_type": "code",
   "execution_count": null,
   "id": "20d8e6ab",
   "metadata": {},
   "outputs": [],
   "source": [
    "data.groupby('age').attendance_percentage.min() "
   ]
  },
  {
   "cell_type": "code",
   "execution_count": null,
   "id": "62f7820c",
   "metadata": {},
   "outputs": [],
   "source": [
    "data.groupby(['extracurricular_participation']).gender.count()"
   ]
  },
  {
   "cell_type": "code",
   "execution_count": null,
   "id": "826925de",
   "metadata": {},
   "outputs": [],
   "source": [
    "data.groupby(\"gender\").exam_score.agg(['min', 'max', 'mean', 'std'])"
   ]
  },
  {
   "cell_type": "code",
   "execution_count": null,
   "id": "89654e49",
   "metadata": {},
   "outputs": [],
   "source": [
    "data_app = data.groupby(['extracurricular_participation', 'gender']).exam_score.agg(['min', 'max', 'mean'])\n",
    "data_app.rename(columns={'min': 'min_score', 'max': 'max_score', 'mean': 'mean_score'}, inplace=True) \n",
    "data_app"
   ]
  },
  {
   "cell_type": "code",
   "execution_count": null,
   "id": "bf5a4221",
   "metadata": {},
   "outputs": [],
   "source": [
    "data_app.reset_index()"
   ]
  },
  {
   "cell_type": "markdown",
   "id": "99483f86",
   "metadata": {},
   "source": [
    "## Sorting"
   ]
  },
  {
   "cell_type": "code",
   "execution_count": null,
   "id": "2afac0a8",
   "metadata": {},
   "outputs": [],
   "source": [
    "data_sorted = data_app.sort_values(by=\"mean_score\", ascending=False)\n",
    "data_sorted.reset_index(drop=False)"
   ]
  }
 ],
 "metadata": {
  "kernelspec": {
   "display_name": "venv",
   "language": "python",
   "name": "python3"
  },
  "language_info": {
   "codemirror_mode": {
    "name": "ipython",
    "version": 3
   },
   "file_extension": ".py",
   "mimetype": "text/x-python",
   "name": "python",
   "nbconvert_exporter": "python",
   "pygments_lexer": "ipython3",
   "version": "3.10.10"
  }
 },
 "nbformat": 4,
 "nbformat_minor": 5
}

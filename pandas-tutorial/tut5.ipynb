{
 "cells": [
  {
   "cell_type": "markdown",
   "id": "22df57dc",
   "metadata": {},
   "source": [
    "## Data Types and Missing Values"
   ]
  },
  {
   "cell_type": "code",
   "execution_count": null,
   "id": "ad29b9aa",
   "metadata": {},
   "outputs": [],
   "source": [
    "import pandas as pd\n",
    "data  = pd.read_csv('data1.csv')\n",
    "data.head()"
   ]
  },
  {
   "cell_type": "code",
   "execution_count": null,
   "id": "2a133b8d",
   "metadata": {},
   "outputs": [],
   "source": [
    "print(data.age.dtype)\n",
    "print(data.netflix_hours.dtype)"
   ]
  },
  {
   "cell_type": "code",
   "execution_count": null,
   "id": "b98a6aaf",
   "metadata": {},
   "outputs": [],
   "source": [
    "data.dtypes"
   ]
  },
  {
   "cell_type": "code",
   "execution_count": null,
   "id": "6c790235",
   "metadata": {},
   "outputs": [],
   "source": [
    "# We can also convert the data types of columns\n",
    "data.age.astype('float64')"
   ]
  },
  {
   "cell_type": "code",
   "execution_count": null,
   "id": "16d3df9b",
   "metadata": {},
   "outputs": [],
   "source": [
    "# Data Type of DataFrame or Series Index\n",
    "data.index.dtype"
   ]
  },
  {
   "cell_type": "markdown",
   "id": "76409208",
   "metadata": {},
   "source": [
    "**Missing Values**"
   ]
  },
  {
   "cell_type": "code",
   "execution_count": null,
   "id": "a86af9b9",
   "metadata": {},
   "outputs": [],
   "source": [
    "data[pd.isnull(data.study_hours_per_day)]"
   ]
  },
  {
   "cell_type": "code",
   "execution_count": null,
   "id": "e3e5f4a5",
   "metadata": {},
   "outputs": [],
   "source": [
    "# Replacing NaN values with 0\n",
    "data[\"study_hours_per_day\"] = data[\"study_hours_per_day\"].fillna(0)\n",
    "data.head()"
   ]
  },
  {
   "cell_type": "code",
   "execution_count": null,
   "id": "112b8da0",
   "metadata": {},
   "outputs": [],
   "source": [
    "data.study_hours_per_day.replace(1.0, 5.0)"
   ]
  }
 ],
 "metadata": {
  "kernelspec": {
   "display_name": "venv",
   "language": "python",
   "name": "python3"
  },
  "language_info": {
   "codemirror_mode": {
    "name": "ipython",
    "version": 3
   },
   "file_extension": ".py",
   "mimetype": "text/x-python",
   "name": "python",
   "nbconvert_exporter": "python",
   "pygments_lexer": "ipython3",
   "version": "3.10.10"
  }
 },
 "nbformat": 4,
 "nbformat_minor": 5
}

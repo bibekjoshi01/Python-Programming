{
 "cells": [
  {
   "cell_type": "code",
   "execution_count": null,
   "id": "22b11b13",
   "metadata": {},
   "outputs": [],
   "source": [
    "pip install pandas"
   ]
  },
  {
   "cell_type": "code",
   "execution_count": null,
   "id": "4de5d048",
   "metadata": {},
   "outputs": [],
   "source": [
    "import pandas as pd"
   ]
  },
  {
   "cell_type": "code",
   "execution_count": null,
   "id": "a77b150e",
   "metadata": {},
   "outputs": [],
   "source": [
    "pip install openpyxl"
   ]
  },
  {
   "cell_type": "code",
   "execution_count": null,
   "id": "5c2c1ad9",
   "metadata": {},
   "outputs": [],
   "source": [
    "data = pd.read_excel(\"data.xlsx\")\n",
    "df = pd.DataFrame(data)\n",
    "\n",
    "final_data = []\n",
    "\n",
    "for row in df.itertuples(index=True):\n",
    "    dat = {\n",
    "        \"id\": row.Index,\n",
    "        \"name\": row._1,\n",
    "        \"email\": row._2\n",
    "    }\n",
    "    final_data.append(dat)"
   ]
  },
  {
   "cell_type": "code",
   "execution_count": null,
   "id": "aadfcc2c",
   "metadata": {},
   "outputs": [],
   "source": [
    "new_data = final_data.copy()\n",
    "new_data[10][\"name\"] = \"Babita Adhikari\"\n",
    "import json\n",
    "\n",
    "# Assuming new_data is already updated\n",
    "with open(\"updated_data.json\", \"w\") as f:\n",
    "    json.dump(new_data, f, indent=4)"
   ]
  },
  {
   "cell_type": "code",
   "execution_count": 33,
   "id": "a9572a13",
   "metadata": {},
   "outputs": [],
   "source": [
    "import json\n",
    "import os\n",
    "\n",
    "# Load the original data\n",
    "with open(\"updated_data.json\") as f:\n",
    "    data = json.load(f)\n",
    "\n",
    "# Add certificate path for each item\n",
    "for item in data:\n",
    "    cert_id = item[\"id\"]  # assuming id is 0–35\n",
    "    image_filename = f\"certificates/untitled{cert_id}.jpg\"\n",
    "\n",
    "    # Optional: check if file exists\n",
    "    if os.path.exists(image_filename):\n",
    "        item[\"certificate\"] = image_filename\n",
    "    else:\n",
    "        item[\"certificate\"] = None  # or handle missing files\n",
    "\n",
    "# Save the updated data\n",
    "with open(\"data_with_certificates.json\", \"w\") as f:\n",
    "    json.dump(data, f, indent=4)\n"
   ]
  },
  {
   "cell_type": "code",
   "execution_count": null,
   "id": "c2539e20",
   "metadata": {},
   "outputs": [
    {
     "ename": "SMTPAuthenticationError",
     "evalue": "(534, b'5.7.9 Please log in with your web browser and then try again. For more\\n5.7.9 information, go to\\n5.7.9  https://support.google.com/mail/?p=WebLoginRequired 98e67ed59e1d1-30f36513276sm1798113a91.44 - gsmtp')",
     "output_type": "error",
     "traceback": [
      "\u001b[1;31m---------------------------------------------------------------------------\u001b[0m",
      "\u001b[1;31mSMTPAuthenticationError\u001b[0m                   Traceback (most recent call last)",
      "Cell \u001b[1;32mIn[42], line 35\u001b[0m\n\u001b[0;32m     33\u001b[0m \u001b[38;5;28;01mwith\u001b[39;00m smtplib\u001b[38;5;241m.\u001b[39mSMTP(SMTP_SERVER, SMTP_PORT) \u001b[38;5;28;01mas\u001b[39;00m server:\n\u001b[0;32m     34\u001b[0m     server\u001b[38;5;241m.\u001b[39mstarttls(context\u001b[38;5;241m=\u001b[39mcontext)\n\u001b[1;32m---> 35\u001b[0m     \u001b[43mserver\u001b[49m\u001b[38;5;241;43m.\u001b[39;49m\u001b[43mlogin\u001b[49m\u001b[43m(\u001b[49m\u001b[43mSENDER_EMAIL\u001b[49m\u001b[43m,\u001b[49m\u001b[43m \u001b[49m\u001b[43mSENDER_PASSWORD\u001b[49m\u001b[43m)\u001b[49m\n\u001b[0;32m     37\u001b[0m     \u001b[38;5;28;01mfor\u001b[39;00m person \u001b[38;5;129;01min\u001b[39;00m participants[\u001b[38;5;241m0\u001b[39m:\u001b[38;5;241m5\u001b[39m]:\n\u001b[0;32m     38\u001b[0m         name \u001b[38;5;241m=\u001b[39m person[\u001b[38;5;124m\"\u001b[39m\u001b[38;5;124mname\u001b[39m\u001b[38;5;124m\"\u001b[39m]\n",
      "File \u001b[1;32mc:\\Users\\neeke\\AppData\\Local\\Programs\\Python\\Python310\\lib\\smtplib.py:750\u001b[0m, in \u001b[0;36mSMTP.login\u001b[1;34m(self, user, password, initial_response_ok)\u001b[0m\n\u001b[0;32m    747\u001b[0m         last_exception \u001b[38;5;241m=\u001b[39m e\n\u001b[0;32m    749\u001b[0m \u001b[38;5;66;03m# We could not login successfully.  Return result of last attempt.\u001b[39;00m\n\u001b[1;32m--> 750\u001b[0m \u001b[38;5;28;01mraise\u001b[39;00m last_exception\n",
      "File \u001b[1;32mc:\\Users\\neeke\\AppData\\Local\\Programs\\Python\\Python310\\lib\\smtplib.py:739\u001b[0m, in \u001b[0;36mSMTP.login\u001b[1;34m(self, user, password, initial_response_ok)\u001b[0m\n\u001b[0;32m    737\u001b[0m method_name \u001b[38;5;241m=\u001b[39m \u001b[38;5;124m'\u001b[39m\u001b[38;5;124mauth_\u001b[39m\u001b[38;5;124m'\u001b[39m \u001b[38;5;241m+\u001b[39m authmethod\u001b[38;5;241m.\u001b[39mlower()\u001b[38;5;241m.\u001b[39mreplace(\u001b[38;5;124m'\u001b[39m\u001b[38;5;124m-\u001b[39m\u001b[38;5;124m'\u001b[39m, \u001b[38;5;124m'\u001b[39m\u001b[38;5;124m_\u001b[39m\u001b[38;5;124m'\u001b[39m)\n\u001b[0;32m    738\u001b[0m \u001b[38;5;28;01mtry\u001b[39;00m:\n\u001b[1;32m--> 739\u001b[0m     (code, resp) \u001b[38;5;241m=\u001b[39m \u001b[38;5;28;43mself\u001b[39;49m\u001b[38;5;241;43m.\u001b[39;49m\u001b[43mauth\u001b[49m\u001b[43m(\u001b[49m\n\u001b[0;32m    740\u001b[0m \u001b[43m        \u001b[49m\u001b[43mauthmethod\u001b[49m\u001b[43m,\u001b[49m\u001b[43m \u001b[49m\u001b[38;5;28;43mgetattr\u001b[39;49m\u001b[43m(\u001b[49m\u001b[38;5;28;43mself\u001b[39;49m\u001b[43m,\u001b[49m\u001b[43m \u001b[49m\u001b[43mmethod_name\u001b[49m\u001b[43m)\u001b[49m\u001b[43m,\u001b[49m\n\u001b[0;32m    741\u001b[0m \u001b[43m        \u001b[49m\u001b[43minitial_response_ok\u001b[49m\u001b[38;5;241;43m=\u001b[39;49m\u001b[43minitial_response_ok\u001b[49m\u001b[43m)\u001b[49m\n\u001b[0;32m    742\u001b[0m     \u001b[38;5;66;03m# 235 == 'Authentication successful'\u001b[39;00m\n\u001b[0;32m    743\u001b[0m     \u001b[38;5;66;03m# 503 == 'Error: already authenticated'\u001b[39;00m\n\u001b[0;32m    744\u001b[0m     \u001b[38;5;28;01mif\u001b[39;00m code \u001b[38;5;129;01min\u001b[39;00m (\u001b[38;5;241m235\u001b[39m, \u001b[38;5;241m503\u001b[39m):\n",
      "File \u001b[1;32mc:\\Users\\neeke\\AppData\\Local\\Programs\\Python\\Python310\\lib\\smtplib.py:662\u001b[0m, in \u001b[0;36mSMTP.auth\u001b[1;34m(self, mechanism, authobject, initial_response_ok)\u001b[0m\n\u001b[0;32m    660\u001b[0m \u001b[38;5;28;01mif\u001b[39;00m code \u001b[38;5;129;01min\u001b[39;00m (\u001b[38;5;241m235\u001b[39m, \u001b[38;5;241m503\u001b[39m):\n\u001b[0;32m    661\u001b[0m     \u001b[38;5;28;01mreturn\u001b[39;00m (code, resp)\n\u001b[1;32m--> 662\u001b[0m \u001b[38;5;28;01mraise\u001b[39;00m SMTPAuthenticationError(code, resp)\n",
      "\u001b[1;31mSMTPAuthenticationError\u001b[0m: (534, b'5.7.9 Please log in with your web browser and then try again. For more\\n5.7.9 information, go to\\n5.7.9  https://support.google.com/mail/?p=WebLoginRequired 98e67ed59e1d1-30f36513276sm1798113a91.44 - gsmtp')"
     ]
    }
   ],
   "source": [
    "import json\n",
    "import smtplib\n",
    "import ssl\n",
    "from email.message import EmailMessage\n",
    "import os\n",
    "\n",
    "# Your email credentials\n",
    "SENDER_EMAIL = \"\"\n",
    "SENDER_PASSWORD = \"\"\n",
    "\n",
    "# Load participant data\n",
    "with open(\"data_with_certificates.json\") as f:\n",
    "    participants = json.load(f)\n",
    "\n",
    "# SMTP settings\n",
    "SMTP_SERVER = \"smtp.gmail.com\"\n",
    "SMTP_PORT = 587\n",
    "\n",
    "# Email content\n",
    "SUBJECT = \"Your Participation Certificate\"\n",
    "BODY_TEMPLATE = \"\"\"\\\n",
    "Dear {name},\n",
    "\n",
    "Thank you for participating in our event. Please find your certificate attached.\n",
    "\n",
    "Best regards,\n",
    "The Organizing Team\n",
    "\"\"\"\n",
    "\n",
    "# Send emails\n",
    "context = ssl.create_default_context()\n",
    "\n",
    "with smtplib.SMTP(SMTP_SERVER, SMTP_PORT) as server:\n",
    "    server.starttls(context=context)\n",
    "    server.login(SENDER_EMAIL, SENDER_PASSWORD)\n",
    "\n",
    "    for person in participants[0:5]:\n",
    "        name = person[\"name\"]\n",
    "        email = person[\"email\"]\n",
    "        cert_path = person[\"certificate\"]\n",
    "\n",
    "        if not os.path.exists(cert_path):\n",
    "            print(f\"Certificate not found for {name}, skipping.\")\n",
    "            continue\n",
    "\n",
    "        msg = EmailMessage()\n",
    "        msg[\"From\"] = SENDER_EMAIL\n",
    "        msg[\"To\"] = \"bibekjoshi34@gmail.com\"  # ← use the actual recipient\n",
    "        msg[\"Subject\"] = SUBJECT\n",
    "        msg.set_content(BODY_TEMPLATE.format(name=name))\n",
    "\n",
    "        with open(cert_path, \"rb\") as cert_file:\n",
    "            cert_data = cert_file.read()\n",
    "            cert_name = os.path.basename(cert_path)\n",
    "            msg.add_attachment(cert_data, maintype=\"image\", subtype=\"jpeg\", filename=cert_name)\n",
    "\n",
    "        try:\n",
    "            server.send_message(msg)\n",
    "            print(f\"✅ Email sent to {name} ({email})\")\n",
    "        except Exception as e:\n",
    "            print(f\"❌ Failed to send email to {name} ({email}): {e}\")\n"
   ]
  }
 ],
 "metadata": {
  "kernelspec": {
   "display_name": "Python 3",
   "language": "python",
   "name": "python3"
  },
  "language_info": {
   "codemirror_mode": {
    "name": "ipython",
    "version": 3
   },
   "file_extension": ".py",
   "mimetype": "text/x-python",
   "name": "python",
   "nbconvert_exporter": "python",
   "pygments_lexer": "ipython3",
   "version": "3.10.7"
  }
 },
 "nbformat": 4,
 "nbformat_minor": 5
}
